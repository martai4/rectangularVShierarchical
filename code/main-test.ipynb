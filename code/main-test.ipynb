{
 "cells": [
  {
   "cell_type": "code",
   "execution_count": 75,
   "metadata": {},
   "outputs": [],
   "source": [
    "import json\n",
    "from pandas import json_normalize\n",
    "import pyarrow as pa\n"
   ]
  },
  {
   "cell_type": "code",
   "execution_count": 107,
   "metadata": {},
   "outputs": [],
   "source": [
    "paths_test = [ '../data-test/airlines.json', \n",
    "            '../data-test/gists.json', \n",
    "            '../data-test/historical-events.json',#have to rename the same value in json (movie on  the same level)\n",
    "            '../data-test/movies.json',\n",
    "            '../data-test/reddit.json'#bad\n",
    "            # '../data-test/airlines-reccurence-test1.json',\n",
    "            # '../data-test/airlines-reccurence-test2.json',\n",
    "            # '../data-test/airlines-reccurence-test3.json',\n",
    "            # '../data-test/airlines-reccurence-test4.json',\n",
    "            # '../data-test/airlines-reccurence-test5.json'\n",
    "            ]"
   ]
  },
  {
   "cell_type": "code",
   "execution_count": 119,
   "metadata": {},
   "outputs": [],
   "source": [
    "paths = [ '../data/airlines.json', \n",
    "            '../data/gists.json', \n",
    "            '../data/historical-events.json',\n",
    "            '../data/movies.json',\n",
    "            '../data/reddit.json']"
   ]
  },
  {
   "cell_type": "code",
   "execution_count": 128,
   "metadata": {},
   "outputs": [
    {
     "name": "stderr",
     "output_type": "stream",
     "text": [
      "100%|██████████| 5/5 [00:00<00:00, 171.66it/s]\n"
     ]
    }
   ],
   "source": [
    "import pandas as pd\n",
    "import json\n",
    "import pyarrow as pa\n",
    "from tqdm import tqdm\n",
    "\n",
    "def flatten_json(y):\n",
    "    out = {}\n",
    "\n",
    "    def flatten(x, name=''):\n",
    "        if type(x) is dict:\n",
    "            for a in x:\n",
    "                attribute_name= name + a +'.'\n",
    "                flatten(x[a], attribute_name)\n",
    "        elif type(x) is list:\n",
    "            i = 0\n",
    "            for a in x:\n",
    "                attribute_name=name.rstrip('.') + '[' + str(i) + '].'\n",
    "                flatten(a, attribute_name)\n",
    "                i += 1\n",
    "        else:\n",
    "            out[name.rstrip('.')] = x\n",
    "\n",
    "    flatten(y)\n",
    "    return out\n",
    "\n",
    "results = []\n",
    "\n",
    "for path in tqdm(paths_test):\n",
    "    with open(path, encoding='utf-8') as f:\n",
    "        dt = json.load(f)\n",
    "\n",
    "    flat_dt = flatten_json(dt)\n",
    "\n",
    "    df = pd.DataFrame([flat_dt])\n",
    "    table = pa.Table.from_pandas(df)\n",
    "    results.append(table)"
   ]
  },
  {
   "cell_type": "code",
   "execution_count": 134,
   "metadata": {},
   "outputs": [
    {
     "data": {
      "text/plain": [
       "pyarrow.Table\n",
       "kind: string\n",
       "data.after: string\n",
       "data.geo_filter: null\n",
       "data.children[0].kind: string\n",
       "data.children[0].data.approved_at_utc: null\n",
       "data.children[0].data.thumbnail_width: int64\n",
       "data.children[0].data.author_flair_template_id: null\n",
       "data.children[0].data.is_original_content: bool\n",
       "data.children[0].data.secure_media.reddit_video.bitrate_kbps: int64\n",
       "data.children[0].data.thumbnail: string\n",
       "data.children[0].data.over_18: bool\n",
       "data.children[0].data.preview.images[0].source.url: string\n",
       "data.children[0].data.preview.images[0].source.width: int64\n",
       "data.children[0].data.preview.images[0].source.height: int64\n",
       "data.children[0].data.preview.images[0].resolutions[0].url: string\n",
       "data.children[0].data.preview.images[0].resolutions[0].width: int64\n",
       "data.children[0].data.preview.images[0].resolutions[0].height: int64\n",
       "data.children[0].data.preview.images[0].id: string\n",
       "data.children[0].data.preview.enabled: bool\n",
       "data.children[0].data.media.reddit_video.bitrate_kbps: int64\n",
       "data.children[0].data.media.reddit_video.fallback_url: string\n",
       "data.children[0].data.media.reddit_video.transcoding_status: string\n",
       "data.children[0].data.is_video: bool\n",
       "----\n",
       "kind: [[\"Listing\"]]\n",
       "data.after: [[\"t3_16q4vh8\"]]\n",
       "data.geo_filter: [1 nulls]\n",
       "data.children[0].kind: [[\"t3\"]]\n",
       "data.children[0].data.approved_at_utc: [1 nulls]\n",
       "data.children[0].data.thumbnail_width: [[140]]\n",
       "data.children[0].data.author_flair_template_id: [1 nulls]\n",
       "data.children[0].data.is_original_content: [[false]]\n",
       "data.children[0].data.secure_media.reddit_video.bitrate_kbps: [[2400]]\n",
       "data.children[0].data.thumbnail: [[\"https://external-preview.redd.it/ZzVoejlrYnFyMHFiMadh3A7lChm81x_pb5ZQ5GUbeGPNap5Y4BYX0bvL20cH.png?width=140&amp;height=140&amp;crop=140:140,smart&amp;format=jpg&amp;v=enabled&amp;lthumb=true&amp;s=8e38bb5e58dc545ffd711e9f40ee621b7d699ad6\"]]\n",
       "..."
      ]
     },
     "execution_count": 134,
     "metadata": {},
     "output_type": "execute_result"
    }
   ],
   "source": [
    "results[4]"
   ]
  },
  {
   "cell_type": "markdown",
   "metadata": {},
   "source": []
  }
 ],
 "metadata": {
  "kernelspec": {
   "display_name": "Python 3",
   "language": "python",
   "name": "python3"
  },
  "language_info": {
   "codemirror_mode": {
    "name": "ipython",
    "version": 3
   },
   "file_extension": ".py",
   "mimetype": "text/x-python",
   "name": "python",
   "nbconvert_exporter": "python",
   "pygments_lexer": "ipython3",
   "version": "3.10.4"
  },
  "orig_nbformat": 4
 },
 "nbformat": 4,
 "nbformat_minor": 2
}
