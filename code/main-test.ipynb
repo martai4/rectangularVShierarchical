{
 "cells": [
  {
   "cell_type": "code",
   "execution_count": 67,
   "metadata": {},
   "outputs": [],
   "source": [
    "import json\n",
    "from pandas import json_normalize\n",
    "import pyarrow as pa\n"
   ]
  },
  {
   "cell_type": "code",
   "execution_count": 68,
   "metadata": {},
   "outputs": [],
   "source": [
    "paths_test = [ '../data-test/airlines.json', \n",
    "            '../data-test/gists.json', \n",
    "            '../data-test/historical-events.json',#have to rename the same value in json (movie on  the same level)\n",
    "            '../data-test/movies.json',\n",
    "            '../data-test/reddit.json',#bad\n",
    "            # '../data-test/airlines-reccurence-test1.json',\n",
    "            # '../data-test/airlines-reccurence-test2.json',\n",
    "            # '../data-test/airlines-reccurence-test3.json',\n",
    "            # '../data-test/airlines-reccurence-test4.json',\n",
    "            # '../data-test/airlines-reccurence-test5.json'\n",
    "            ]"
   ]
  },
  {
   "cell_type": "code",
   "execution_count": 69,
   "metadata": {},
   "outputs": [
    {
     "name": "stderr",
     "output_type": "stream",
     "text": [
      "100%|██████████| 5/5 [00:00<00:00, 30.17it/s]\n"
     ]
    }
   ],
   "source": [
    "import pandas as pd\n",
    "import json\n",
    "import pyarrow as pa\n",
    "from tqdm import tqdm\n",
    "\n",
    "def flatten_json(nested_json, exclude=['']):\n",
    "    out = {}\n",
    "\n",
    "    def flatten(x, name='', exclude=exclude):\n",
    "        if type(x) is dict:\n",
    "            for a in x:\n",
    "                if a not in exclude: flatten(x[a], name + a)\n",
    "        elif type(x) is list:\n",
    "            i = 0\n",
    "            for a in x:\n",
    "                flatten(a, name + '[' + str(i) + ']')\n",
    "                i += 1\n",
    "        else:\n",
    "            out[name] = x\n",
    "\n",
    "    flatten(nested_json)\n",
    "    return out\n",
    "\n",
    "results = []\n",
    "for path in tqdm(paths_test):\n",
    "    with open(path, encoding='utf-8') as f:\n",
    "        dt = json.load(f)\n",
    "    \n",
    "    # Flatten the data\n",
    "    flat_dt = [flatten_json(obj) for obj in dt]\n",
    "    df = pd.DataFrame(flat_dt)\n",
    "    \n",
    "    table = pa.Table.from_pandas(df)\n",
    "    results.append(table)\n"
   ]
  },
  {
   "cell_type": "code",
   "execution_count": 70,
   "metadata": {},
   "outputs": [
    {
     "data": {
      "text/plain": [
       "pyarrow.Table\n",
       ": string\n",
       "----\n",
       ": [[\"kind\",\"data\"]]"
      ]
     },
     "execution_count": 70,
     "metadata": {},
     "output_type": "execute_result"
    }
   ],
   "source": [
    "results[4]"
   ]
  },
  {
   "cell_type": "markdown",
   "metadata": {},
   "source": []
  }
 ],
 "metadata": {
  "kernelspec": {
   "display_name": "Python 3",
   "language": "python",
   "name": "python3"
  },
  "language_info": {
   "codemirror_mode": {
    "name": "ipython",
    "version": 3
   },
   "file_extension": ".py",
   "mimetype": "text/x-python",
   "name": "python",
   "nbconvert_exporter": "python",
   "pygments_lexer": "ipython3",
   "version": "3.10.4"
  },
  "orig_nbformat": 4
 },
 "nbformat": 4,
 "nbformat_minor": 2
}
