{
 "cells": [
  {
   "cell_type": "code",
   "execution_count": 1,
   "metadata": {},
   "outputs": [],
   "source": [
    "paths_test = [ '../data-test/airlines.json', \n",
    "            '../data-test/gists.json', \n",
    "            '../data-test/historical-events.json',#have to rename the same value in json (movie on  the same level)\n",
    "            '../data-test/movies.json',\n",
    "            '../data-test/reddit.json']\n",
    "path=paths_test[3]"
   ]
  },
  {
   "cell_type": "code",
   "execution_count": 2,
   "metadata": {},
   "outputs": [
    {
     "name": "stdout",
     "output_type": "stream",
     "text": [
      "########################\n",
      "##########main##########\n",
      "########################\n",
      "pyarrow.Table\n",
      "title: string\n",
      "year: int64\n",
      "href: string\n",
      "extract: string\n",
      "thumbnail: string\n",
      "thumbnail_width: double\n",
      "thumbnail_height: double\n",
      "row_number: int64\n",
      "----\n",
      "title: [[\"After Dark in Central Park\",\"Clowns Spinning Hats\",\"Capture of Boer Battery by British\"]]\n",
      "year: [[1900,1900,1900]]\n",
      "href: [[null,\"Clowns_Spinning_Hats\",\"Capture_of_Boer_Battery_by_British\"]]\n",
      "extract: [[null,\"Clowns Spinning Hats is a black-and-white silent film featuring clowns throwing hats back and forth to each other. It was written and produced by Lubin Films and released April 7, 1900.\",\"Capture of Boer Battery by British is a black-and-white silent short docu-fiction film produced by James H. White for Edison Manufacturing Company in 1900. It is one minute in length and depicts the resistance of the Gordon Highlanders to the oncoming fire of the Boer's advance during the Boer War. It was filmed in West Orange, New Jersey USA and released April 14, 1900.\"]]\n",
      "thumbnail: [[null,null,\"https://upload.wikimedia.org/wikipedia/commons/thumb/f/fc/Capture_of_Boer_Battery_by_British_1900_James_H_White_Thomas_Edison.webm/320px--Capture_of_Boer_Battery_by_British_1900_James_H_White_Thomas_Edison.webm.jpg\"]]\n",
      "thumbnail_width: [[null,null,320]]\n",
      "thumbnail_height: [[null,null,240]]\n",
      "row_number: [[1,2,3]]\n",
      "cast\n",
      "########################\n",
      "##########cast##########\n",
      "########################\n",
      "pyarrow.Table\n",
      "__index_level_0__: null\n",
      "----\n",
      "__index_level_0__: [0 nulls]\n",
      "genres\n",
      "########################\n",
      "#########genres#########\n",
      "########################\n",
      "pyarrow.Table\n",
      "row_number: int64\n",
      "value: string\n",
      "----\n",
      "row_number: [[1,2,2,2]]\n",
      "value: [[\"Silent\",\"Short\",\"Documentary\",\"Silent\"]]\n"
     ]
    }
   ],
   "source": [
    "import pandas as pd\n",
    "import pyarrow as pa\n",
    "import json\n",
    "\n",
    "def make_new_json(lists,table_name):\n",
    "    print(table_name)\n",
    "    data = []\n",
    "    for i in range(len(lists)):\n",
    "        for item in lists[i]:\n",
    "            item_data={\n",
    "                \"row_number\": i,\n",
    "                \"value\": item\n",
    "            }\n",
    "            data.append(item_data)\n",
    "    return data\n",
    "\n",
    "def delete_lists(df,name):\n",
    "    \n",
    "    print(\"#\"*24)\n",
    "    print(\"#\"*((24-len(name))//2)+name+\"#\"*((24-len(name))//2))\n",
    "    print(\"#\"*24)\n",
    "\n",
    "    df=pd.json_normalize(df)\n",
    "\n",
    "    is_list = df.apply(lambda x: any(isinstance(i, list) for i in x))\n",
    "\n",
    "    list_columns = is_list[is_list].index.tolist()\n",
    "    if(len(list_columns)>0):\n",
    "        list_df = df[list_columns].copy()\n",
    "\n",
    "        df = df.drop(list_columns, axis=1)\n",
    "        df['row_number'] = range(1, len(df) + 1)\n",
    "    main_table = pa.Table.from_pandas(df)\n",
    "    print(main_table)\n",
    "    if(len(list_columns)>0):\n",
    "        for dropped_list in list_columns:\n",
    "            new_json=make_new_json(list_df[dropped_list],dropped_list)\n",
    "            delete_lists(new_json,dropped_list)\n",
    "\n",
    "with open(path, encoding='utf-8') as f:\n",
    "    dt = json.load(f)\n",
    "\n",
    "delete_lists(dt,'main')\n",
    "\n"
   ]
  }
 ],
 "metadata": {
  "kernelspec": {
   "display_name": "Python 3",
   "language": "python",
   "name": "python3"
  },
  "language_info": {
   "codemirror_mode": {
    "name": "ipython",
    "version": 3
   },
   "file_extension": ".py",
   "mimetype": "text/x-python",
   "name": "python",
   "nbconvert_exporter": "python",
   "pygments_lexer": "ipython3",
   "version": "3.10.4"
  }
 },
 "nbformat": 4,
 "nbformat_minor": 2
}
