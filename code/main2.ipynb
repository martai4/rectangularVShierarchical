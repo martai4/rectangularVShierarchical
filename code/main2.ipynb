{
 "cells": [
  {
   "cell_type": "code",
   "execution_count": 2,
   "metadata": {},
   "outputs": [],
   "source": [
    "paths_test = [ '../data-test/airlines.json', \n",
    "            '../data-test/gists.json', \n",
    "            '../data-test/historical-events.json',#have to rename the same value in json (movie on  the same level)\n",
    "            '../data-test/movies.json',\n",
    "            '../data-test/reddit.json',\n",
    "            '../data-test/airlines-reccurence-test1.json',\n",
    "            '../data-test/airlines-reccurence-test2.json',\n",
    "            '../data-test/airlines-reccurence-test3.json',\n",
    "            '../data-test/airlines-reccurence-test4.json',\n",
    "            '../data-test/airlines-reccurence-test5.json']"
   ]
  },
  {
   "cell_type": "code",
   "execution_count": 4,
   "metadata": {},
   "outputs": [
    {
     "name": "stdout",
     "output_type": "stream",
     "text": [
      "########################\n",
      "##########main##########\n",
      "########################\n",
      "pyarrow.Table\n",
      "Airport.Code: string\n",
      "Airport.Name: string\n",
      "Time.Label: string\n",
      "Time.Month: int64\n",
      "Time.Month Name: string\n",
      "Time.Year: int64\n",
      "Statistics.# of Delays.Carrier: int64\n",
      "Statistics.# of Delays.Late Aircraft: int64\n",
      "Statistics.# of Delays.National Aviation System: int64\n",
      "Statistics.# of Delays.Security: int64\n",
      "Statistics.# of Delays.Weather: int64\n",
      "Statistics.Carriers.Names: string\n",
      "Statistics.Carriers.Total: double\n",
      "----\n",
      "Airport.Code: [[\"ATL\",\"BOS\"]]\n",
      "Airport.Name: [[\"Atlanta, GA: Hartsfield-Jackson Atlanta International\",\"Boston, MA: Logan International\"]]\n",
      "Time.Label: [[\"2003/06\",\"2003/06\"]]\n",
      "Time.Month: [[6,6]]\n",
      "Time.Month Name: [[\"June\",\"June\"]]\n",
      "Time.Year: [[2003,2003]]\n",
      "Statistics.# of Delays.Carrier: [[1009,374]]\n",
      "Statistics.# of Delays.Late Aircraft: [[1275,495]]\n",
      "Statistics.# of Delays.National Aviation System: [[3217,685]]\n",
      "Statistics.# of Delays.Security: [[17,3]]\n",
      "...\n"
     ]
    }
   ],
   "source": [
    "import pandas as pd\n",
    "import pyarrow as pa\n",
    "import json\n",
    "\n",
    "def make_new_json(lists,table_name):\n",
    "    print(table_name)\n",
    "    data = []\n",
    "    for i in range(len(lists)):\n",
    "        for item in lists[i]:\n",
    "            item_data={\n",
    "                \"row_number\": i,\n",
    "                \"value\": item\n",
    "            }\n",
    "            data.append(item_data)\n",
    "    return data\n",
    "\n",
    "def delete_lists(df,name):\n",
    "    \n",
    "    print(\"#\"*24)\n",
    "    print(\"#\"*((24-len(name))//2)+name+\"#\"*((24-len(name))//2))\n",
    "    print(\"#\"*24)\n",
    "\n",
    "    df=pd.json_normalize(df)\n",
    "\n",
    "    is_list = df.apply(lambda x: any(isinstance(i, list) for i in x))\n",
    "\n",
    "    list_columns = is_list[is_list].index.tolist()\n",
    "    if(len(list_columns)>0):\n",
    "        list_df = df[list_columns].copy()\n",
    "\n",
    "        df = df.drop(list_columns, axis=1)\n",
    "        df['row_number'] = range(1, len(df) + 1)\n",
    "    main_table = pa.Table.from_pandas(df)\n",
    "    print(main_table)\n",
    "    if(len(list_columns)>0):\n",
    "        for dropped_list in list_columns:\n",
    "            new_json=make_new_json(list_df[dropped_list],dropped_list)\n",
    "            delete_lists(new_json,dropped_list)\n",
    "\n",
    "\n",
    "path=paths_test[5]\n",
    "with open(path, encoding='utf-8') as f:\n",
    "    dt = json.load(f)\n",
    "\n",
    "delete_lists(dt,'main')\n",
    "\n"
   ]
  },
  {
   "cell_type": "code",
   "execution_count": 7,
   "metadata": {},
   "outputs": [
    {
     "ename": "AttributeError",
     "evalue": "'NoneType' object has no attribute 'column'",
     "output_type": "error",
     "traceback": [
      "\u001b[1;31m---------------------------------------------------------------------------\u001b[0m",
      "\u001b[1;31mAttributeError\u001b[0m                            Traceback (most recent call last)",
      "\u001b[1;32mc:\\Users\\tusiu\\rectangularVShierarchical\\code\\main2.ipynb Cell 3\u001b[0m line \u001b[0;36m1\n\u001b[1;32m----> <a href='vscode-notebook-cell:/c%3A/Users/tusiu/rectangularVShierarchical/code/main2.ipynb#W2sZmlsZQ%3D%3D?line=0'>1</a>\u001b[0m x\u001b[39m.\u001b[39;49mcolumn(\u001b[39m\"\u001b[39m\u001b[39mAirport.Code\u001b[39m\u001b[39m\"\u001b[39m)\n",
      "\u001b[1;31mAttributeError\u001b[0m: 'NoneType' object has no attribute 'column'"
     ]
    }
   ],
   "source": [
    "x.column(\"Airport.Code\")"
   ]
  }
 ],
 "metadata": {
  "kernelspec": {
   "display_name": "Python 3",
   "language": "python",
   "name": "python3"
  },
  "language_info": {
   "codemirror_mode": {
    "name": "ipython",
    "version": 3
   },
   "file_extension": ".py",
   "mimetype": "text/x-python",
   "name": "python",
   "nbconvert_exporter": "python",
   "pygments_lexer": "ipython3",
   "version": "3.10.4"
  }
 },
 "nbformat": 4,
 "nbformat_minor": 2
}
