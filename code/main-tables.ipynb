{
 "cells": [
  {
   "cell_type": "markdown",
   "metadata": {},
   "source": [
    "### NORMALIZE CREATING NEW TABLE\n",
    "\n",
    "ta metoda polega na tworzeniu tabeli dla każdej listy"
   ]
  },
  {
   "cell_type": "code",
   "execution_count": 27,
   "metadata": {},
   "outputs": [],
   "source": [
    "import pandas as pd\n",
    "import json\n",
    "import pyarrow as pa\n",
    "from tqdm import tqdm"
   ]
  },
  {
   "cell_type": "code",
   "execution_count": 8,
   "metadata": {},
   "outputs": [],
   "source": [
    "paths_test = [ '../data-test/airlines.json', \n",
    "            '../data-test/gists.json', \n",
    "            '../data-test/historical-events.json',#have to rename the same value in json (movie on  the same level)\n",
    "            '../data-test/movies.json',\n",
    "            '../data-test/reddit.json',#bad\n",
    "            '../data-test/nasa.json'\n",
    "            ]"
   ]
  },
  {
   "cell_type": "code",
   "execution_count": 9,
   "metadata": {},
   "outputs": [],
   "source": [
    "paths = [ '../data/airlines.json', \n",
    "            '../data/gists.json', \n",
    "            '../data/historical-events.json',\n",
    "            '../data/movies.json',\n",
    "            '../data/reddit.json',\n",
    "            '../data/nasa.json']"
   ]
  },
  {
   "cell_type": "code",
   "execution_count": 58,
   "metadata": {},
   "outputs": [],
   "source": [
    "def make_new_json(lists, table_name):\n",
    "    data = []\n",
    "    for i, item in enumerate(lists[table_name]):\n",
    "        if isinstance(item, list):\n",
    "            for elem in item or [None]:\n",
    "                data.append({\"row_number\": i, \"value\": elem})\n",
    "        elif item is not None:\n",
    "            data.append({\"row_number\": i, \"value\": item})\n",
    "    return data\n",
    "\n",
    "def delete_lists(df, name):\n",
    "    df = pd.json_normalize(df)\n",
    "    is_list = df.applymap(lambda x: isinstance(x, list)).any()\n",
    "    list_columns = is_list[is_list].index.tolist()\n",
    "\n",
    "    if list_columns:\n",
    "        list_df = df[list_columns].copy()\n",
    "        df = df.drop(columns=list_columns)\n",
    "        df['row_number'] = range(1, len(df) + 1)\n",
    "\n",
    "    main_table = pa.Table.from_pandas(df)\n",
    "    tables = {name: main_table}\n",
    "\n",
    "    for dropped_list in list_columns:\n",
    "        new_json = make_new_json(list_df, dropped_list)\n",
    "        tables[dropped_list] = delete_lists(new_json, dropped_list)\n",
    "\n",
    "    return tables\n",
    "\n",
    "results = []\n",
    "\n",
    "for path in paths:\n",
    "    with open(path, encoding='utf-8') as f:\n",
    "        dt = json.load(f)\n",
    "    results.append(delete_lists(dt, 'main'))\n"
   ]
  },
  {
   "cell_type": "code",
   "execution_count": 64,
   "metadata": {},
   "outputs": [
    {
     "data": {
      "text/plain": [
       "{'main': pyarrow.Table\n",
       " name: string\n",
       " id: string\n",
       " nametype: string\n",
       " recclass: string\n",
       " mass: string\n",
       " fall: string\n",
       " year: string\n",
       " reclat: string\n",
       " reclong: string\n",
       " geolocation.type: string\n",
       " :@computed_region_cbhk_fwbd: string\n",
       " :@computed_region_nnqa_25f4: string\n",
       " row_number: int64\n",
       " ----\n",
       " name: [[\"Aachen\",\"Aarhus\",\"Abee\",\"Acapulco\",\"Achiras\",...,\"Tirupati\",\"Tissint\",\"Tjabe\",\"Tjerebon\",\"Tomakovka\"]]\n",
       " id: [[\"1\",\"2\",\"6\",\"10\",\"370\",...,\"24009\",\"54823\",\"24011\",\"24012\",\"24019\"]]\n",
       " nametype: [[\"Valid\",\"Valid\",\"Valid\",\"Valid\",\"Valid\",...,\"Valid\",\"Valid\",\"Valid\",\"Valid\",\"Valid\"]]\n",
       " recclass: [[\"L5\",\"H6\",\"EH4\",\"Acapulcoite\",\"L6\",...,\"H6\",\"Martian (shergottite)\",\"H6\",\"L5\",\"LL6\"]]\n",
       " mass: [[\"21\",\"720\",\"107000\",\"1914\",\"780\",...,\"230\",\"7000\",\"20000\",\"16500\",\"600\"]]\n",
       " fall: [[\"Fell\",\"Fell\",\"Fell\",\"Fell\",\"Fell\",...,\"Fell\",\"Fell\",\"Fell\",\"Fell\",\"Fell\"]]\n",
       " year: [[\"1880-01-01T00:00:00.000\",\"1951-01-01T00:00:00.000\",\"1952-01-01T00:00:00.000\",\"1976-01-01T00:00:00.000\",\"1902-01-01T00:00:00.000\",...,\"1934-01-01T00:00:00.000\",\"2011-01-01T00:00:00.000\",\"1869-01-01T00:00:00.000\",\"1922-01-01T00:00:00.000\",\"1905-01-01T00:00:00.000\"]]\n",
       " reclat: [[\"50.775000\",\"56.183330\",\"54.216670\",\"16.883330\",\"-33.166670\",...,\"13.633330\",\"29.481950\",\"-7.083330\",\"-6.666670\",\"47.850000\"]]\n",
       " reclong: [[\"6.083330\",\"10.233330\",\"-113.000000\",\"-99.900000\",\"-64.950000\",...,\"79.416670\",\"-7.611230\",\"111.533330\",\"106.583330\",\"34.766670\"]]\n",
       " geolocation.type: [[\"Point\",\"Point\",\"Point\",\"Point\",\"Point\",...,\"Point\",\"Point\",\"Point\",\"Point\",\"Point\"]]\n",
       " ...,\n",
       " 'geolocation.coordinates': {'geolocation.coordinates': pyarrow.Table\n",
       "  row_number: int64\n",
       "  value: double\n",
       "  ----\n",
       "  row_number: [[0,0,1,1,2,...,997,998,998,999,999]]\n",
       "  value: [[6.08333,50.775,10.23333,56.18333,-113,...,-7.08333,106.58333,-6.66667,34.76667,47.85]]}}"
      ]
     },
     "execution_count": 64,
     "metadata": {},
     "output_type": "execute_result"
    }
   ],
   "source": [
    "results[5]"
   ]
  }
 ],
 "metadata": {
  "kernelspec": {
   "display_name": "Python 3",
   "language": "python",
   "name": "python3"
  },
  "language_info": {
   "codemirror_mode": {
    "name": "ipython",
    "version": 3
   },
   "file_extension": ".py",
   "mimetype": "text/x-python",
   "name": "python",
   "nbconvert_exporter": "python",
   "pygments_lexer": "ipython3",
   "version": "3.10.4"
  }
 },
 "nbformat": 4,
 "nbformat_minor": 2
}
