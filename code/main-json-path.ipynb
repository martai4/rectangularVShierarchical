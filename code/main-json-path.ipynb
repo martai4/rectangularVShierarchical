{
 "cells": [
  {
   "cell_type": "markdown",
   "metadata": {},
   "source": [
    "### JSON PATH\n",
    "\n",
    "ta metoda polega na stworzeniu kolumny dla każdego nowego atrybutu oraz dla każdego nowego elementu listy"
   ]
  },
  {
   "cell_type": "code",
   "execution_count": 2,
   "metadata": {},
   "outputs": [],
   "source": [
    "import pandas as pd\n",
    "import json\n",
    "import pyarrow as pa\n",
    "from tqdm import tqdm"
   ]
  },
  {
   "cell_type": "code",
   "execution_count": 4,
   "metadata": {},
   "outputs": [],
   "source": [
    "paths_test = [ '../data-test/airlines.json', \n",
    "            '../data-test/gists.json', \n",
    "            '../data-test/historical-events.json',#have to rename the same value in json (movie on  the same level)\n",
    "            '../data-test/movies.json',\n",
    "            '../data-test/reddit.json',#bad\n",
    "            '../data-test/nasa.json'\n",
    "            ]"
   ]
  },
  {
   "cell_type": "code",
   "execution_count": 5,
   "metadata": {},
   "outputs": [],
   "source": [
    "paths = [ '../data/airlines.json', \n",
    "            '../data/gists.json', \n",
    "            '../data/historical-events.json',\n",
    "            '../data/movies.json',\n",
    "            '../data/reddit.json',\n",
    "            '../data/nasa.json']"
   ]
  },
  {
   "cell_type": "code",
   "execution_count": 6,
   "metadata": {},
   "outputs": [],
   "source": [
    "def flatten_json(y):\n",
    "    out = {}\n",
    "\n",
    "    def flatten(x, name=''):\n",
    "        if type(x) is dict:\n",
    "            for a in x:\n",
    "                attribute_name= name + a +'.'\n",
    "                flatten(x[a], attribute_name)\n",
    "        elif type(x) is list:\n",
    "            i = 0\n",
    "            for a in x:\n",
    "                attribute_name=name.rstrip('.') + '[' + str(i) + '].'\n",
    "                flatten(a, attribute_name)\n",
    "                i += 1\n",
    "        else:\n",
    "            out[name.rstrip('.')] = x\n",
    "\n",
    "    flatten(y)\n",
    "    return out\n",
    "\n",
    "results = []\n",
    "\n",
    "for path in paths_test:\n",
    "    with open(path, encoding='utf-8') as f:\n",
    "        dt = json.load(f)\n",
    "        \n",
    "    if isinstance(dt, list):\n",
    "        flattened_data = [flatten_json(item) for item in dt]\n",
    "    else:\n",
    "        flattened_data = [flatten_json(dt)]\n",
    "\n",
    "    df = pd.DataFrame(flattened_data)\n",
    "\n",
    "    table = pa.Table.from_pandas(df)\n",
    "    results.append(table)\n"
   ]
  },
  {
   "cell_type": "code",
   "execution_count": 8,
   "metadata": {},
   "outputs": [
    {
     "data": {
      "text/plain": [
       "pyarrow.Table\n",
       "url: string\n",
       "forks_url: string\n",
       "commits_url: string\n",
       "id: string\n",
       "node_id: string\n",
       "git_pull_url: string\n",
       "git_push_url: string\n",
       "html_url: string\n",
       "files.output_log.txt.filename: string\n",
       "files.output_log.txt.type: string\n",
       "files.output_log.txt.language: string\n",
       "files.output_log.txt.raw_url: string\n",
       "files.output_log.txt.size: double\n",
       "public: bool\n",
       "created_at: string\n",
       "updated_at: string\n",
       "description: string\n",
       "comments: int64\n",
       "user: null\n",
       "comments_url: string\n",
       "owner.login: string\n",
       "owner.id: int64\n",
       "owner.node_id: string\n",
       "owner.avatar_url: string\n",
       "owner.gravatar_id: string\n",
       "owner.url: string\n",
       "owner.html_url: string\n",
       "owner.followers_url: string\n",
       "owner.following_url: string\n",
       "owner.gists_url: string\n",
       "owner.starred_url: string\n",
       "owner.subscriptions_url: string\n",
       "owner.organizations_url: string\n",
       "owner.repos_url: string\n",
       "owner.events_url: string\n",
       "owner.received_events_url: string\n",
       "owner.type: string\n",
       "owner.site_admin: bool\n",
       "truncated: bool\n",
       "files.swap.json.filename: string\n",
       "files.swap.json.type: string\n",
       "files.swap.json.language: string\n",
       "files.swap.json.raw_url: string\n",
       "files.swap.json.size: double\n",
       "files.gistfile1.txt.filename: string\n",
       "files.gistfile1.txt.type: string\n",
       "files.gistfile1.txt.language: string\n",
       "files.gistfile1.txt.raw_url: string\n",
       "files.gistfile1.txt.size: double\n",
       "----\n",
       "url: [[\"https://api.github.com/gists/68b9a146fc3b08ec301f3cdd819ce2a2\",\"https://api.github.com/gists/d6b1f5d8307afbca6a346a0a978152a0\",\"https://api.github.com/gists/5408bdaaa53fee815c512b41a8dfef2d\"]]\n",
       "forks_url: [[\"https://api.github.com/gists/68b9a146fc3b08ec301f3cdd819ce2a2/forks\",\"https://api.github.com/gists/d6b1f5d8307afbca6a346a0a978152a0/forks\",\"https://api.github.com/gists/5408bdaaa53fee815c512b41a8dfef2d/forks\"]]\n",
       "commits_url: [[\"https://api.github.com/gists/68b9a146fc3b08ec301f3cdd819ce2a2/commits\",\"https://api.github.com/gists/d6b1f5d8307afbca6a346a0a978152a0/commits\",\"https://api.github.com/gists/5408bdaaa53fee815c512b41a8dfef2d/commits\"]]\n",
       "id: [[\"68b9a146fc3b08ec301f3cdd819ce2a2\",\"d6b1f5d8307afbca6a346a0a978152a0\",\"5408bdaaa53fee815c512b41a8dfef2d\"]]\n",
       "node_id: [[\"G_kwDOAWatx9oAIDY4YjlhMTQ2ZmMzYjA4ZWMzMDFmM2NkZDgxOWNlMmEy\",\"G_kwDOBz4FHNoAIGQ2YjFmNWQ4MzA3YWZiY2E2YTM0NmEwYTk3ODE1MmEw\",\"G_kwDOAZeJXdoAIDU0MDhiZGFhYTUzZmVlODE1YzUxMmI0MWE4ZGZlZjJk\"]]\n",
       "git_pull_url: [[\"https://gist.github.com/68b9a146fc3b08ec301f3cdd819ce2a2.git\",\"https://gist.github.com/d6b1f5d8307afbca6a346a0a978152a0.git\",\"https://gist.github.com/5408bdaaa53fee815c512b41a8dfef2d.git\"]]\n",
       "git_push_url: [[\"https://gist.github.com/68b9a146fc3b08ec301f3cdd819ce2a2.git\",\"https://gist.github.com/d6b1f5d8307afbca6a346a0a978152a0.git\",\"https://gist.github.com/5408bdaaa53fee815c512b41a8dfef2d.git\"]]\n",
       "html_url: [[\"https://gist.github.com/HugsLibRecordKeeper/68b9a146fc3b08ec301f3cdd819ce2a2\",\"https://gist.github.com/raccoons-bot/d6b1f5d8307afbca6a346a0a978152a0\",\"https://gist.github.com/surendra-wal/5408bdaaa53fee815c512b41a8dfef2d\"]]\n",
       "files.output_log.txt.filename: [[\"output_log.txt\",null,null]]\n",
       "files.output_log.txt.type: [[\"text/plain\",null,null]]\n",
       "..."
      ]
     },
     "execution_count": 8,
     "metadata": {},
     "output_type": "execute_result"
    }
   ],
   "source": [
    "results[1]"
   ]
  }
 ],
 "metadata": {
  "kernelspec": {
   "display_name": "Python 3",
   "language": "python",
   "name": "python3"
  },
  "language_info": {
   "codemirror_mode": {
    "name": "ipython",
    "version": 3
   },
   "file_extension": ".py",
   "mimetype": "text/x-python",
   "name": "python",
   "nbconvert_exporter": "python",
   "pygments_lexer": "ipython3",
   "version": "3.10.4"
  }
 },
 "nbformat": 4,
 "nbformat_minor": 2
}
