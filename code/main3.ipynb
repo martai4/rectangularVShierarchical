{
 "cells": [
  {
   "cell_type": "code",
   "execution_count": 3,
   "metadata": {},
   "outputs": [],
   "source": [
    "paths_test = [ '../data-test/airlines.json', \n",
    "            '../data-test/gists.json', \n",
    "            '../data-test/historical-events.json',#have to rename the same value in json (movie on  the same level)\n",
    "            '../data-test/movies.json',\n",
    "            '../data-test/reddit.json']\n",
    "path=paths_test[3]"
   ]
  },
  {
   "cell_type": "code",
   "execution_count": 8,
   "metadata": {},
   "outputs": [
    {
     "name": "stdout",
     "output_type": "stream",
     "text": [
      "pyarrow.Table\n",
      "title: string\n",
      "year: int64\n",
      "href: string\n",
      "extract: string\n",
      "thumbnail: string\n",
      "thumbnail_width: double\n",
      "thumbnail_height: double\n",
      "row_number: int64\n",
      "cast[0]: null\n",
      "genres[0]: string\n",
      "genres[1]: string\n",
      "genres[2]: string\n",
      "----\n",
      "title: [[\"After Dark in Central Park\",\"Clowns Spinning Hats\",\"Capture of Boer Battery by British\"]]\n",
      "year: [[1900,1900,1900]]\n",
      "href: [[null,\"Clowns_Spinning_Hats\",\"Capture_of_Boer_Battery_by_British\"]]\n",
      "extract: [[null,\"Clowns Spinning Hats is a black-and-white silent film featuring clowns throwing hats back and forth to each other. It was written and produced by Lubin Films and released April 7, 1900.\",\"Capture of Boer Battery by British is a black-and-white silent short docu-fiction film produced by James H. White for Edison Manufacturing Company in 1900. It is one minute in length and depicts the resistance of the Gordon Highlanders to the oncoming fire of the Boer's advance during the Boer War. It was filmed in West Orange, New Jersey USA and released April 14, 1900.\"]]\n",
      "thumbnail: [[null,null,\"https://upload.wikimedia.org/wikipedia/commons/thumb/f/fc/Capture_of_Boer_Battery_by_British_1900_James_H_White_Thomas_Edison.webm/320px--Capture_of_Boer_Battery_by_British_1900_James_H_White_Thomas_Edison.webm.jpg\"]]\n",
      "thumbnail_width: [[null,null,320]]\n",
      "thumbnail_height: [[null,null,240]]\n",
      "row_number: [[1,2,3]]\n",
      "cast[0]: [3 nulls]\n",
      "genres[0]: [[null,\"Silent\",\"Short\"]]\n",
      "...\n"
     ]
    }
   ],
   "source": [
    "import pandas as pd\n",
    "import pyarrow as pa\n",
    "import json\n",
    "\n",
    "def delete_lists(df):\n",
    "    df = pd.json_normalize(df)\n",
    "    df['row_number'] = range(1, len(df) + 1)\n",
    "\n",
    "    is_list = df.apply(lambda x: any(isinstance(i, list) for i in x))\n",
    "    list_columns = is_list[is_list].index.tolist()\n",
    "\n",
    "    for col in list_columns:\n",
    "        max_len = df[col].str.len().max()\n",
    "        if max_len==0:\n",
    "            max_len=1\n",
    "\n",
    "        for i in range(max_len):\n",
    "            df[f'{col}[{i}]'] = df[col].apply(lambda x: x[i] if i < len(x) else None)\n",
    "        df = df.drop(col, axis=1)\n",
    "\n",
    "    main_table = pa.Table.from_pandas(df)\n",
    "    print(main_table)\n",
    "\n",
    "with open(path, encoding='utf-8') as f:\n",
    "    dt = json.load(f)\n",
    "\n",
    "delete_lists(dt)\n",
    "\n"
   ]
  }
 ],
 "metadata": {
  "kernelspec": {
   "display_name": "Python 3",
   "language": "python",
   "name": "python3"
  },
  "language_info": {
   "codemirror_mode": {
    "name": "ipython",
    "version": 3
   },
   "file_extension": ".py",
   "mimetype": "text/x-python",
   "name": "python",
   "nbconvert_exporter": "python",
   "pygments_lexer": "ipython3",
   "version": "3.10.4"
  }
 },
 "nbformat": 4,
 "nbformat_minor": 2
}
