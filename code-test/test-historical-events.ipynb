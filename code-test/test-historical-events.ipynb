{
 "cells": [
  {
   "cell_type": "code",
   "execution_count": 1,
   "metadata": {},
   "outputs": [],
   "source": [
    "import json\n",
    "import pandas as pd\n",
    "import pyarrow as pa\n",
    "import pyarrow.compute as pc"
   ]
  },
  {
   "cell_type": "code",
   "execution_count": 2,
   "metadata": {},
   "outputs": [],
   "source": [
    "path = '../data-test/historical-events.json'\n",
    "\n",
    "with open(path, encoding='utf-8') as f:\n",
    "    dt = json.load(f)"
   ]
  },
  {
   "cell_type": "code",
   "execution_count": 3,
   "metadata": {},
   "outputs": [
    {
     "data": {
      "text/plain": [
       "{'result': {'count': '3',\n",
       "  'event': {'date': '2012/12/31',\n",
       "   'description': '\\'\\'Sequoia\\'\\', a proposed super computer built by IBM for the National Nuclear Security Administration will be completed, reaching a peak performance of 20 Petaflops.ampamp{{cite web|last=Gonsalves |first=Antone |url=<a href=\"http://www.informationweek.com/news/hardware/supercomputers/showArticle.jhtml?articleID=213000842ampampsubSection=News\">http://www.informationweek.com/news/hardware/supercomputers/showArticle.jhtml?articleID=213000842ampampsubSection=News</a> |title=IBM Tapped For 20-Petaflop Government Supercomputer |publisher=Informationweek.com |date= |accessdate=2010-06-02}}ampamp',\n",
       "   'lang': 'en',\n",
       "   'category1': 'Date unknown',\n",
       "   'granularity': 'year'}}}"
      ]
     },
     "execution_count": 3,
     "metadata": {},
     "output_type": "execute_result"
    }
   ],
   "source": [
    "dt"
   ]
  },
  {
   "cell_type": "code",
   "execution_count": 4,
   "metadata": {},
   "outputs": [],
   "source": [
    "df = pd.DataFrame(dt)"
   ]
  },
  {
   "cell_type": "code",
   "execution_count": 5,
   "metadata": {},
   "outputs": [
    {
     "data": {
      "text/html": [
       "<div>\n",
       "<style scoped>\n",
       "    .dataframe tbody tr th:only-of-type {\n",
       "        vertical-align: middle;\n",
       "    }\n",
       "\n",
       "    .dataframe tbody tr th {\n",
       "        vertical-align: top;\n",
       "    }\n",
       "\n",
       "    .dataframe thead th {\n",
       "        text-align: right;\n",
       "    }\n",
       "</style>\n",
       "<table border=\"1\" class=\"dataframe\">\n",
       "  <thead>\n",
       "    <tr style=\"text-align: right;\">\n",
       "      <th></th>\n",
       "      <th>result</th>\n",
       "    </tr>\n",
       "  </thead>\n",
       "  <tbody>\n",
       "    <tr>\n",
       "      <th>count</th>\n",
       "      <td>3</td>\n",
       "    </tr>\n",
       "    <tr>\n",
       "      <th>event</th>\n",
       "      <td>{'date': '2012/12/31', 'description': '''Sequo...</td>\n",
       "    </tr>\n",
       "  </tbody>\n",
       "</table>\n",
       "</div>"
      ],
      "text/plain": [
       "                                                  result\n",
       "count                                                  3\n",
       "event  {'date': '2012/12/31', 'description': '''Sequo..."
      ]
     },
     "execution_count": 5,
     "metadata": {},
     "output_type": "execute_result"
    }
   ],
   "source": [
    "df"
   ]
  },
  {
   "cell_type": "code",
   "execution_count": 6,
   "metadata": {},
   "outputs": [
    {
     "ename": "ArrowTypeError",
     "evalue": "(\"Expected bytes, got a 'dict' object\", 'Conversion failed for column result with type object')",
     "output_type": "error",
     "traceback": [
      "\u001b[1;31m---------------------------------------------------------------------------\u001b[0m",
      "\u001b[1;31mArrowTypeError\u001b[0m                            Traceback (most recent call last)",
      "\u001b[1;32mc:\\Users\\tusiu\\rectangularVShierarchical\\code-test\\test-historical-events.ipynb Cell 6\u001b[0m line \u001b[0;36m1\n\u001b[1;32m----> <a href='vscode-notebook-cell:/c%3A/Users/tusiu/rectangularVShierarchical/code-test/test-historical-events.ipynb#W5sZmlsZQ%3D%3D?line=0'>1</a>\u001b[0m table \u001b[39m=\u001b[39m pa\u001b[39m.\u001b[39;49mTable\u001b[39m.\u001b[39;49mfrom_pandas(df)\n",
      "File \u001b[1;32mc:\\Python310\\lib\\site-packages\\pyarrow\\table.pxi:3762\u001b[0m, in \u001b[0;36mpyarrow.lib.Table.from_pandas\u001b[1;34m()\u001b[0m\n",
      "File \u001b[1;32mc:\\Python310\\lib\\site-packages\\pyarrow\\pandas_compat.py:611\u001b[0m, in \u001b[0;36mdataframe_to_arrays\u001b[1;34m(df, schema, preserve_index, nthreads, columns, safe)\u001b[0m\n\u001b[0;32m    606\u001b[0m     \u001b[39mreturn\u001b[39;00m (\u001b[39misinstance\u001b[39m(arr, np\u001b[39m.\u001b[39mndarray) \u001b[39mand\u001b[39;00m\n\u001b[0;32m    607\u001b[0m             arr\u001b[39m.\u001b[39mflags\u001b[39m.\u001b[39mcontiguous \u001b[39mand\u001b[39;00m\n\u001b[0;32m    608\u001b[0m             \u001b[39missubclass\u001b[39m(arr\u001b[39m.\u001b[39mdtype\u001b[39m.\u001b[39mtype, np\u001b[39m.\u001b[39minteger))\n\u001b[0;32m    610\u001b[0m \u001b[39mif\u001b[39;00m nthreads \u001b[39m==\u001b[39m \u001b[39m1\u001b[39m:\n\u001b[1;32m--> 611\u001b[0m     arrays \u001b[39m=\u001b[39m [convert_column(c, f)\n\u001b[0;32m    612\u001b[0m               \u001b[39mfor\u001b[39;00m c, f \u001b[39min\u001b[39;00m \u001b[39mzip\u001b[39m(columns_to_convert, convert_fields)]\n\u001b[0;32m    613\u001b[0m \u001b[39melse\u001b[39;00m:\n\u001b[0;32m    614\u001b[0m     arrays \u001b[39m=\u001b[39m []\n",
      "File \u001b[1;32mc:\\Python310\\lib\\site-packages\\pyarrow\\pandas_compat.py:611\u001b[0m, in \u001b[0;36m<listcomp>\u001b[1;34m(.0)\u001b[0m\n\u001b[0;32m    606\u001b[0m     \u001b[39mreturn\u001b[39;00m (\u001b[39misinstance\u001b[39m(arr, np\u001b[39m.\u001b[39mndarray) \u001b[39mand\u001b[39;00m\n\u001b[0;32m    607\u001b[0m             arr\u001b[39m.\u001b[39mflags\u001b[39m.\u001b[39mcontiguous \u001b[39mand\u001b[39;00m\n\u001b[0;32m    608\u001b[0m             \u001b[39missubclass\u001b[39m(arr\u001b[39m.\u001b[39mdtype\u001b[39m.\u001b[39mtype, np\u001b[39m.\u001b[39minteger))\n\u001b[0;32m    610\u001b[0m \u001b[39mif\u001b[39;00m nthreads \u001b[39m==\u001b[39m \u001b[39m1\u001b[39m:\n\u001b[1;32m--> 611\u001b[0m     arrays \u001b[39m=\u001b[39m [convert_column(c, f)\n\u001b[0;32m    612\u001b[0m               \u001b[39mfor\u001b[39;00m c, f \u001b[39min\u001b[39;00m \u001b[39mzip\u001b[39m(columns_to_convert, convert_fields)]\n\u001b[0;32m    613\u001b[0m \u001b[39melse\u001b[39;00m:\n\u001b[0;32m    614\u001b[0m     arrays \u001b[39m=\u001b[39m []\n",
      "File \u001b[1;32mc:\\Python310\\lib\\site-packages\\pyarrow\\pandas_compat.py:598\u001b[0m, in \u001b[0;36mdataframe_to_arrays.<locals>.convert_column\u001b[1;34m(col, field)\u001b[0m\n\u001b[0;32m    593\u001b[0m \u001b[39mexcept\u001b[39;00m (pa\u001b[39m.\u001b[39mArrowInvalid,\n\u001b[0;32m    594\u001b[0m         pa\u001b[39m.\u001b[39mArrowNotImplementedError,\n\u001b[0;32m    595\u001b[0m         pa\u001b[39m.\u001b[39mArrowTypeError) \u001b[39mas\u001b[39;00m e:\n\u001b[0;32m    596\u001b[0m     e\u001b[39m.\u001b[39margs \u001b[39m+\u001b[39m\u001b[39m=\u001b[39m (\u001b[39m\"\u001b[39m\u001b[39mConversion failed for column \u001b[39m\u001b[39m{!s}\u001b[39;00m\u001b[39m with type \u001b[39m\u001b[39m{!s}\u001b[39;00m\u001b[39m\"\u001b[39m\n\u001b[0;32m    597\u001b[0m                \u001b[39m.\u001b[39mformat(col\u001b[39m.\u001b[39mname, col\u001b[39m.\u001b[39mdtype),)\n\u001b[1;32m--> 598\u001b[0m     \u001b[39mraise\u001b[39;00m e\n\u001b[0;32m    599\u001b[0m \u001b[39mif\u001b[39;00m \u001b[39mnot\u001b[39;00m field_nullable \u001b[39mand\u001b[39;00m result\u001b[39m.\u001b[39mnull_count \u001b[39m>\u001b[39m \u001b[39m0\u001b[39m:\n\u001b[0;32m    600\u001b[0m     \u001b[39mraise\u001b[39;00m \u001b[39mValueError\u001b[39;00m(\u001b[39m\"\u001b[39m\u001b[39mField \u001b[39m\u001b[39m{}\u001b[39;00m\u001b[39m was non-nullable but pandas column \u001b[39m\u001b[39m\"\u001b[39m\n\u001b[0;32m    601\u001b[0m                      \u001b[39m\"\u001b[39m\u001b[39mhad \u001b[39m\u001b[39m{}\u001b[39;00m\u001b[39m null values\u001b[39m\u001b[39m\"\u001b[39m\u001b[39m.\u001b[39mformat(\u001b[39mstr\u001b[39m(field),\n\u001b[0;32m    602\u001b[0m                                                  result\u001b[39m.\u001b[39mnull_count))\n",
      "File \u001b[1;32mc:\\Python310\\lib\\site-packages\\pyarrow\\pandas_compat.py:592\u001b[0m, in \u001b[0;36mdataframe_to_arrays.<locals>.convert_column\u001b[1;34m(col, field)\u001b[0m\n\u001b[0;32m    589\u001b[0m     type_ \u001b[39m=\u001b[39m field\u001b[39m.\u001b[39mtype\n\u001b[0;32m    591\u001b[0m \u001b[39mtry\u001b[39;00m:\n\u001b[1;32m--> 592\u001b[0m     result \u001b[39m=\u001b[39m pa\u001b[39m.\u001b[39;49marray(col, \u001b[39mtype\u001b[39;49m\u001b[39m=\u001b[39;49mtype_, from_pandas\u001b[39m=\u001b[39;49m\u001b[39mTrue\u001b[39;49;00m, safe\u001b[39m=\u001b[39;49msafe)\n\u001b[0;32m    593\u001b[0m \u001b[39mexcept\u001b[39;00m (pa\u001b[39m.\u001b[39mArrowInvalid,\n\u001b[0;32m    594\u001b[0m         pa\u001b[39m.\u001b[39mArrowNotImplementedError,\n\u001b[0;32m    595\u001b[0m         pa\u001b[39m.\u001b[39mArrowTypeError) \u001b[39mas\u001b[39;00m e:\n\u001b[0;32m    596\u001b[0m     e\u001b[39m.\u001b[39margs \u001b[39m+\u001b[39m\u001b[39m=\u001b[39m (\u001b[39m\"\u001b[39m\u001b[39mConversion failed for column \u001b[39m\u001b[39m{!s}\u001b[39;00m\u001b[39m with type \u001b[39m\u001b[39m{!s}\u001b[39;00m\u001b[39m\"\u001b[39m\n\u001b[0;32m    597\u001b[0m                \u001b[39m.\u001b[39mformat(col\u001b[39m.\u001b[39mname, col\u001b[39m.\u001b[39mdtype),)\n",
      "File \u001b[1;32mc:\\Python310\\lib\\site-packages\\pyarrow\\array.pxi:323\u001b[0m, in \u001b[0;36mpyarrow.lib.array\u001b[1;34m()\u001b[0m\n",
      "File \u001b[1;32mc:\\Python310\\lib\\site-packages\\pyarrow\\array.pxi:83\u001b[0m, in \u001b[0;36mpyarrow.lib._ndarray_to_array\u001b[1;34m()\u001b[0m\n",
      "File \u001b[1;32mc:\\Python310\\lib\\site-packages\\pyarrow\\error.pxi:123\u001b[0m, in \u001b[0;36mpyarrow.lib.check_status\u001b[1;34m()\u001b[0m\n",
      "\u001b[1;31mArrowTypeError\u001b[0m: (\"Expected bytes, got a 'dict' object\", 'Conversion failed for column result with type object')"
     ]
    }
   ],
   "source": [
    "table = pa.Table.from_pandas(df)"
   ]
  },
  {
   "cell_type": "code",
   "execution_count": null,
   "metadata": {},
   "outputs": [
    {
     "data": {
      "text/plain": [
       "pyarrow.Table\n",
       "url: string\n",
       "forks_url: string\n",
       "commits_url: string\n",
       "id: string\n",
       "node_id: string\n",
       "git_pull_url: string\n",
       "git_push_url: string\n",
       "html_url: string\n",
       "files: struct<gistfile1.txt: struct<filename: string, language: string, raw_url: string, size: int64, type: string>, output_log.txt: struct<filename: string, language: string, raw_url: string, size: int64, type: string>, swap.json: struct<filename: string, language: string, raw_url: string, size: int64, type: string>>\n",
       "  child 0, gistfile1.txt: struct<filename: string, language: string, raw_url: string, size: int64, type: string>\n",
       "      child 0, filename: string\n",
       "      child 1, language: string\n",
       "      child 2, raw_url: string\n",
       "      child 3, size: int64\n",
       "      child 4, type: string\n",
       "  child 1, output_log.txt: struct<filename: string, language: string, raw_url: string, size: int64, type: string>\n",
       "      child 0, filename: string\n",
       "      child 1, language: string\n",
       "      child 2, raw_url: string\n",
       "      child 3, size: int64\n",
       "      child 4, type: string\n",
       "  child 2, swap.json: struct<filename: string, language: string, raw_url: string, size: int64, type: string>\n",
       "      child 0, filename: string\n",
       "      child 1, language: string\n",
       "      child 2, raw_url: string\n",
       "      child 3, size: int64\n",
       "      child 4, type: string\n",
       "public: bool\n",
       "created_at: string\n",
       "updated_at: string\n",
       "description: string\n",
       "comments: int64\n",
       "user: null\n",
       "comments_url: string\n",
       "owner: struct<avatar_url: string, events_url: string, followers_url: string, following_url: string, gists_url: string, gravatar_id: string, html_url: string, id: int64, login: string, node_id: string, organizations_url: string, received_events_url: string, repos_url: string, site_admin: bool, starred_url: string, subscriptions_url: string, type: string, url: string>\n",
       "  child 0, avatar_url: string\n",
       "  child 1, events_url: string\n",
       "  child 2, followers_url: string\n",
       "  child 3, following_url: string\n",
       "  child 4, gists_url: string\n",
       "  child 5, gravatar_id: string\n",
       "  child 6, html_url: string\n",
       "  child 7, id: int64\n",
       "  child 8, login: string\n",
       "  child 9, node_id: string\n",
       "  child 10, organizations_url: string\n",
       "  child 11, received_events_url: string\n",
       "  child 12, repos_url: string\n",
       "  child 13, site_admin: bool\n",
       "  child 14, starred_url: string\n",
       "  child 15, subscriptions_url: string\n",
       "  child 16, type: string\n",
       "  child 17, url: string\n",
       "truncated: bool\n",
       "----\n",
       "url: [[\"https://api.github.com/gists/68b9a146fc3b08ec301f3cdd819ce2a2\",\"https://api.github.com/gists/d6b1f5d8307afbca6a346a0a978152a0\",\"https://api.github.com/gists/5408bdaaa53fee815c512b41a8dfef2d\"]]\n",
       "forks_url: [[\"https://api.github.com/gists/68b9a146fc3b08ec301f3cdd819ce2a2/forks\",\"https://api.github.com/gists/d6b1f5d8307afbca6a346a0a978152a0/forks\",\"https://api.github.com/gists/5408bdaaa53fee815c512b41a8dfef2d/forks\"]]\n",
       "commits_url: [[\"https://api.github.com/gists/68b9a146fc3b08ec301f3cdd819ce2a2/commits\",\"https://api.github.com/gists/d6b1f5d8307afbca6a346a0a978152a0/commits\",\"https://api.github.com/gists/5408bdaaa53fee815c512b41a8dfef2d/commits\"]]\n",
       "id: [[\"68b9a146fc3b08ec301f3cdd819ce2a2\",\"d6b1f5d8307afbca6a346a0a978152a0\",\"5408bdaaa53fee815c512b41a8dfef2d\"]]\n",
       "node_id: [[\"G_kwDOAWatx9oAIDY4YjlhMTQ2ZmMzYjA4ZWMzMDFmM2NkZDgxOWNlMmEy\",\"G_kwDOBz4FHNoAIGQ2YjFmNWQ4MzA3YWZiY2E2YTM0NmEwYTk3ODE1MmEw\",\"G_kwDOAZeJXdoAIDU0MDhiZGFhYTUzZmVlODE1YzUxMmI0MWE4ZGZlZjJk\"]]\n",
       "git_pull_url: [[\"https://gist.github.com/68b9a146fc3b08ec301f3cdd819ce2a2.git\",\"https://gist.github.com/d6b1f5d8307afbca6a346a0a978152a0.git\",\"https://gist.github.com/5408bdaaa53fee815c512b41a8dfef2d.git\"]]\n",
       "git_push_url: [[\"https://gist.github.com/68b9a146fc3b08ec301f3cdd819ce2a2.git\",\"https://gist.github.com/d6b1f5d8307afbca6a346a0a978152a0.git\",\"https://gist.github.com/5408bdaaa53fee815c512b41a8dfef2d.git\"]]\n",
       "html_url: [[\"https://gist.github.com/HugsLibRecordKeeper/68b9a146fc3b08ec301f3cdd819ce2a2\",\"https://gist.github.com/raccoons-bot/d6b1f5d8307afbca6a346a0a978152a0\",\"https://gist.github.com/surendra-wal/5408bdaaa53fee815c512b41a8dfef2d\"]]\n",
       "files: [\n",
       "  -- is_valid: all not null\n",
       "  -- child 0 type: struct<filename: string, language: string, raw_url: string, size: int64, type: string>\n",
       "    -- is_valid:    [false,false,true]\n",
       "    -- child 0 type: string\n",
       "[\"\",\"\",\"gistfile1.txt\"]\n",
       "    -- child 1 type: string\n",
       "[\"\",\"\",\"Text\"]\n",
       "    -- child 2 type: string\n",
       "[\"\",\"\",\"https://gist.githubusercontent.com/surendra-wal/5408bdaaa53fee815c512b41a8dfef2d/raw/f704e7eeadb9d58bbb9de4ff3ace7230538fee9f/gistfile1.txt\"]\n",
       "    -- child 3 type: int64\n",
       "[0,0,987]\n",
       "    -- child 4 type: string\n",
       "[\"\",\"\",\"text/plain\"]\n",
       "  -- child 1 type: struct<filename: string, language: string, raw_url: string, size: int64, type: string>\n",
       "    -- is_valid:    [true,false,false]\n",
       "    -- child 0 type: string\n",
       "[\"output_log.txt\",\"\",\"\"]\n",
       "    -- child 1 type: string\n",
       "[\"Text\",\"\",\"\"]\n",
       "    -- child 2 type: string\n",
       "[\"https://gist.githubusercontent.com/HugsLibRecordKeeper/68b9a146fc3b08ec301f3cdd819ce2a2/raw/38f045e858e8209e31639779515a9854df467f27/output_log.txt\",\"\",\"\"]\n",
       "    -- child 3 type: int64\n",
       "[62780,0,0]\n",
       "    -- child 4 type: string\n",
       "[\"text/plain\",\"\",\"\"]\n",
       "  -- child 2 type: struct<filename: string, language: string, raw_url: string, size: int64, type: string>\n",
       "    -- is_valid:    [false,true,false]\n",
       "    -- child 0 type: string\n",
       "[\"\",\"swap.json\",\"\"]\n",
       "    -- child 1 type: string\n",
       "[\"\",\"JSON\",\"\"]\n",
       "    -- child 2 type: string\n",
       "[\"\",\"https://gist.githubusercontent.com/raccoons-bot/d6b1f5d8307afbca6a346a0a978152a0/raw/66d98e410fc631a88f94e263387fd18520fe622a/swap.json\",\"\"]\n",
       "    -- child 3 type: int64\n",
       "[0,10588,0]\n",
       "    -- child 4 type: string\n",
       "[\"\",\"application/json\",\"\"]]\n",
       "public: [[true,true,true]]\n",
       "..."
      ]
     },
     "execution_count": 7,
     "metadata": {},
     "output_type": "execute_result"
    }
   ],
   "source": [
    "table"
   ]
  }
 ],
 "metadata": {
  "kernelspec": {
   "display_name": "Python 3",
   "language": "python",
   "name": "python3"
  },
  "language_info": {
   "codemirror_mode": {
    "name": "ipython",
    "version": 3
   },
   "file_extension": ".py",
   "mimetype": "text/x-python",
   "name": "python",
   "nbconvert_exporter": "python",
   "pygments_lexer": "ipython3",
   "version": "3.10.4"
  },
  "orig_nbformat": 4
 },
 "nbformat": 4,
 "nbformat_minor": 2
}
