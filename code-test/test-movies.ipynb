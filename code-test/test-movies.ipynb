{
 "cells": [
  {
   "cell_type": "code",
   "execution_count": 8,
   "metadata": {},
   "outputs": [],
   "source": [
    "import json\n",
    "import pandas as pd\n",
    "import pyarrow as pa\n",
    "import pyarrow.compute as pc"
   ]
  },
  {
   "cell_type": "code",
   "execution_count": 9,
   "metadata": {},
   "outputs": [],
   "source": [
    "path = '../data-test/movies.json'\n",
    "\n",
    "with open(path, encoding='utf-8') as f:\n",
    "    dt = json.load(f)"
   ]
  },
  {
   "cell_type": "code",
   "execution_count": 10,
   "metadata": {},
   "outputs": [
    {
     "data": {
      "text/plain": [
       "[{'title': 'After Dark in Central Park',\n",
       "  'year': 1900,\n",
       "  'cast': [],\n",
       "  'genres': [],\n",
       "  'href': None},\n",
       " {'title': 'Clowns Spinning Hats',\n",
       "  'year': 1900,\n",
       "  'cast': [],\n",
       "  'genres': ['Silent'],\n",
       "  'href': 'Clowns_Spinning_Hats',\n",
       "  'extract': 'Clowns Spinning Hats is a black-and-white silent film featuring clowns throwing hats back and forth to each other. It was written and produced by Lubin Films and released April 7, 1900.'},\n",
       " {'title': 'Capture of Boer Battery by British',\n",
       "  'year': 1900,\n",
       "  'cast': [],\n",
       "  'genres': ['Short', 'Documentary', 'Silent'],\n",
       "  'href': 'Capture_of_Boer_Battery_by_British',\n",
       "  'extract': \"Capture of Boer Battery by British is a black-and-white silent short docu-fiction film produced by James H. White for Edison Manufacturing Company in 1900. It is one minute in length and depicts the resistance of the Gordon Highlanders to the oncoming fire of the Boer's advance during the Boer War. It was filmed in West Orange, New Jersey USA and released April 14, 1900.\",\n",
       "  'thumbnail': 'https://upload.wikimedia.org/wikipedia/commons/thumb/f/fc/Capture_of_Boer_Battery_by_British_1900_James_H_White_Thomas_Edison.webm/320px--Capture_of_Boer_Battery_by_British_1900_James_H_White_Thomas_Edison.webm.jpg',\n",
       "  'thumbnail_width': 320,\n",
       "  'thumbnail_height': 240}]"
      ]
     },
     "execution_count": 10,
     "metadata": {},
     "output_type": "execute_result"
    }
   ],
   "source": [
    "dt"
   ]
  },
  {
   "cell_type": "code",
   "execution_count": 11,
   "metadata": {},
   "outputs": [],
   "source": [
    "df = pd.DataFrame(dt)"
   ]
  },
  {
   "cell_type": "code",
   "execution_count": 12,
   "metadata": {},
   "outputs": [
    {
     "data": {
      "text/html": [
       "<div>\n",
       "<style scoped>\n",
       "    .dataframe tbody tr th:only-of-type {\n",
       "        vertical-align: middle;\n",
       "    }\n",
       "\n",
       "    .dataframe tbody tr th {\n",
       "        vertical-align: top;\n",
       "    }\n",
       "\n",
       "    .dataframe thead th {\n",
       "        text-align: right;\n",
       "    }\n",
       "</style>\n",
       "<table border=\"1\" class=\"dataframe\">\n",
       "  <thead>\n",
       "    <tr style=\"text-align: right;\">\n",
       "      <th></th>\n",
       "      <th>title</th>\n",
       "      <th>year</th>\n",
       "      <th>cast</th>\n",
       "      <th>genres</th>\n",
       "      <th>href</th>\n",
       "      <th>extract</th>\n",
       "      <th>thumbnail</th>\n",
       "      <th>thumbnail_width</th>\n",
       "      <th>thumbnail_height</th>\n",
       "    </tr>\n",
       "  </thead>\n",
       "  <tbody>\n",
       "    <tr>\n",
       "      <th>0</th>\n",
       "      <td>After Dark in Central Park</td>\n",
       "      <td>1900</td>\n",
       "      <td>[]</td>\n",
       "      <td>[]</td>\n",
       "      <td>None</td>\n",
       "      <td>NaN</td>\n",
       "      <td>NaN</td>\n",
       "      <td>NaN</td>\n",
       "      <td>NaN</td>\n",
       "    </tr>\n",
       "    <tr>\n",
       "      <th>1</th>\n",
       "      <td>Clowns Spinning Hats</td>\n",
       "      <td>1900</td>\n",
       "      <td>[]</td>\n",
       "      <td>[Silent]</td>\n",
       "      <td>Clowns_Spinning_Hats</td>\n",
       "      <td>Clowns Spinning Hats is a black-and-white sile...</td>\n",
       "      <td>NaN</td>\n",
       "      <td>NaN</td>\n",
       "      <td>NaN</td>\n",
       "    </tr>\n",
       "    <tr>\n",
       "      <th>2</th>\n",
       "      <td>Capture of Boer Battery by British</td>\n",
       "      <td>1900</td>\n",
       "      <td>[]</td>\n",
       "      <td>[Short, Documentary, Silent]</td>\n",
       "      <td>Capture_of_Boer_Battery_by_British</td>\n",
       "      <td>Capture of Boer Battery by British is a black-...</td>\n",
       "      <td>https://upload.wikimedia.org/wikipedia/commons...</td>\n",
       "      <td>320.0</td>\n",
       "      <td>240.0</td>\n",
       "    </tr>\n",
       "  </tbody>\n",
       "</table>\n",
       "</div>"
      ],
      "text/plain": [
       "                                title  year cast  \\\n",
       "0          After Dark in Central Park  1900   []   \n",
       "1                Clowns Spinning Hats  1900   []   \n",
       "2  Capture of Boer Battery by British  1900   []   \n",
       "\n",
       "                         genres                                href  \\\n",
       "0                            []                                None   \n",
       "1                      [Silent]                Clowns_Spinning_Hats   \n",
       "2  [Short, Documentary, Silent]  Capture_of_Boer_Battery_by_British   \n",
       "\n",
       "                                             extract  \\\n",
       "0                                                NaN   \n",
       "1  Clowns Spinning Hats is a black-and-white sile...   \n",
       "2  Capture of Boer Battery by British is a black-...   \n",
       "\n",
       "                                           thumbnail  thumbnail_width  \\\n",
       "0                                                NaN              NaN   \n",
       "1                                                NaN              NaN   \n",
       "2  https://upload.wikimedia.org/wikipedia/commons...            320.0   \n",
       "\n",
       "   thumbnail_height  \n",
       "0               NaN  \n",
       "1               NaN  \n",
       "2             240.0  "
      ]
     },
     "execution_count": 12,
     "metadata": {},
     "output_type": "execute_result"
    }
   ],
   "source": [
    "df"
   ]
  },
  {
   "cell_type": "code",
   "execution_count": 13,
   "metadata": {},
   "outputs": [],
   "source": [
    "table = pa.Table.from_pandas(df)"
   ]
  },
  {
   "cell_type": "code",
   "execution_count": 14,
   "metadata": {},
   "outputs": [
    {
     "data": {
      "text/plain": [
       "pyarrow.Table\n",
       "title: string\n",
       "year: int64\n",
       "cast: list<item: null>\n",
       "  child 0, item: null\n",
       "genres: list<item: string>\n",
       "  child 0, item: string\n",
       "href: string\n",
       "extract: string\n",
       "thumbnail: string\n",
       "thumbnail_width: double\n",
       "thumbnail_height: double\n",
       "----\n",
       "title: [[\"After Dark in Central Park\",\"Clowns Spinning Hats\",\"Capture of Boer Battery by British\"]]\n",
       "year: [[1900,1900,1900]]\n",
       "cast: [[0 nulls,0 nulls,0 nulls]]\n",
       "genres: [[[],[\"Silent\"],[\"Short\",\"Documentary\",\"Silent\"]]]\n",
       "href: [[null,\"Clowns_Spinning_Hats\",\"Capture_of_Boer_Battery_by_British\"]]\n",
       "extract: [[null,\"Clowns Spinning Hats is a black-and-white silent film featuring clowns throwing hats back and forth to each other. It was written and produced by Lubin Films and released April 7, 1900.\",\"Capture of Boer Battery by British is a black-and-white silent short docu-fiction film produced by James H. White for Edison Manufacturing Company in 1900. It is one minute in length and depicts the resistance of the Gordon Highlanders to the oncoming fire of the Boer's advance during the Boer War. It was filmed in West Orange, New Jersey USA and released April 14, 1900.\"]]\n",
       "thumbnail: [[null,null,\"https://upload.wikimedia.org/wikipedia/commons/thumb/f/fc/Capture_of_Boer_Battery_by_British_1900_James_H_White_Thomas_Edison.webm/320px--Capture_of_Boer_Battery_by_British_1900_James_H_White_Thomas_Edison.webm.jpg\"]]\n",
       "thumbnail_width: [[null,null,320]]\n",
       "thumbnail_height: [[null,null,240]]"
      ]
     },
     "execution_count": 14,
     "metadata": {},
     "output_type": "execute_result"
    }
   ],
   "source": [
    "table"
   ]
  }
 ],
 "metadata": {
  "kernelspec": {
   "display_name": "Python 3",
   "language": "python",
   "name": "python3"
  },
  "language_info": {
   "codemirror_mode": {
    "name": "ipython",
    "version": 3
   },
   "file_extension": ".py",
   "mimetype": "text/x-python",
   "name": "python",
   "nbconvert_exporter": "python",
   "pygments_lexer": "ipython3",
   "version": "3.10.4"
  },
  "orig_nbformat": 4
 },
 "nbformat": 4,
 "nbformat_minor": 2
}
