{
 "cells": [
  {
   "cell_type": "markdown",
   "metadata": {},
   "source": [
    "### NORMALIZE CREATING NEW TABLE\n",
    "\n",
    "ta metoda polega na tworzeniu tabeli dla każdej listy"
   ]
  },
  {
   "cell_type": "code",
   "execution_count": 2,
   "metadata": {},
   "outputs": [],
   "source": [
    "import pandas as pd\n",
    "import json\n",
    "import pyarrow as pa\n",
    "from tqdm import tqdm"
   ]
  },
  {
   "cell_type": "code",
   "execution_count": 4,
   "metadata": {},
   "outputs": [],
   "source": [
    "paths_test = [ '../data-test/airlines.json', \n",
    "            '../data-test/gists.json', \n",
    "            '../data-test/historical-events.json',#have to rename the same value in json (movie on  the same level)\n",
    "            '../data-test/movies.json',\n",
    "            '../data-test/reddit.json',#bad\n",
    "            '../data-test/nasa.json'\n",
    "            ]"
   ]
  },
  {
   "cell_type": "code",
   "execution_count": 5,
   "metadata": {},
   "outputs": [],
   "source": [
    "paths = [ '../data/airlines.json', \n",
    "            '../data/gists.json', \n",
    "            '../data/historical-events.json',\n",
    "            '../data/movies.json',\n",
    "            '../data/reddit.json',\n",
    "            '../data/nasa.json']"
   ]
  },
  {
   "cell_type": "code",
   "execution_count": 6,
   "metadata": {},
   "outputs": [],
   "source": [
    "def flatten_json(y):\n",
    "    out = {}\n",
    "\n",
    "    def flatten(x, name=''):\n",
    "        if type(x) is dict:\n",
    "            for a in x:\n",
    "                attribute_name= name + a +'.'\n",
    "                flatten(x[a], attribute_name)\n",
    "        elif type(x) is list:\n",
    "            i = 0\n",
    "            for a in x:\n",
    "                attribute_name=name.rstrip('.') + '[' + str(i) + '].'\n",
    "                flatten(a, attribute_name)\n",
    "                i += 1\n",
    "        else:\n",
    "            out[name.rstrip('.')] = x\n",
    "\n",
    "    flatten(y)\n",
    "    return out\n",
    "\n",
    "results = []\n",
    "\n",
    "for path in paths_test:\n",
    "    with open(path, encoding='utf-8') as f:\n",
    "        dt = json.load(f)\n",
    "        \n",
    "    if isinstance(dt, list):\n",
    "        flattened_data = [flatten_json(item) for item in dt]\n",
    "    else:\n",
    "        flattened_data = [flatten_json(dt)]\n",
    "\n",
    "    df = pd.DataFrame(flattened_data)\n",
    "\n",
    "    table = pa.Table.from_pandas(df)\n",
    "    results.append(table)\n"
   ]
  },
  {
   "cell_type": "code",
   "execution_count": null,
   "metadata": {},
   "outputs": [],
   "source": [
    "import pandas as pd\n",
    "import pyarrow as pa\n",
    "import json\n",
    "\n",
    "def make_new_json(lists,table_name):\n",
    "    print(table_name)\n",
    "    data = []\n",
    "    for i in range(len(lists)):\n",
    "        for item in lists[i]:\n",
    "            item_data={\n",
    "                \"row_number\": i,\n",
    "                \"value\": item\n",
    "            }\n",
    "            data.append(item_data)\n",
    "    return data\n",
    "\n",
    "def delete_lists(df,name):\n",
    "    \n",
    "    print(\"#\"*24)\n",
    "    print(\"#\"*((24-len(name))//2)+name+\"#\"*((24-len(name))//2))\n",
    "    print(\"#\"*24)\n",
    "\n",
    "    df=pd.json_normalize(df)\n",
    "\n",
    "    is_list = df.apply(lambda x: any(isinstance(i, list) for i in x))\n",
    "\n",
    "    list_columns = is_list[is_list].index.tolist()\n",
    "    if(len(list_columns)>0):\n",
    "        list_df = df[list_columns].copy()\n",
    "\n",
    "        df = df.drop(list_columns, axis=1)\n",
    "        df['row_number'] = range(1, len(df) + 1)\n",
    "    main_table = pa.Table.from_pandas(df)\n",
    "    print(main_table)\n",
    "    if(len(list_columns)>0):\n",
    "        for dropped_list in list_columns:\n",
    "            new_json=make_new_json(list_df[dropped_list],dropped_list)\n",
    "            delete_lists(new_json,dropped_list)\n",
    "\n",
    "with open(path, encoding='utf-8') as f:\n",
    "    dt = json.load(f)\n",
    "\n",
    "delete_lists(dt,'main')\n",
    "\n"
   ]
  }
 ],
 "metadata": {
  "kernelspec": {
   "display_name": "Python 3",
   "language": "python",
   "name": "python3"
  },
  "language_info": {
   "codemirror_mode": {
    "name": "ipython",
    "version": 3
   },
   "file_extension": ".py",
   "mimetype": "text/x-python",
   "name": "python",
   "nbconvert_exporter": "python",
   "pygments_lexer": "ipython3",
   "version": "3.10.4"
  }
 },
 "nbformat": 4,
 "nbformat_minor": 2
}
